{
 "cells": [
  {
   "cell_type": "markdown",
   "metadata": {},
   "source": [
    "# Inaugural Project\n",
    "> Inaugural project for \"Introduction to Programming and Numerical Analysis\" \n",
    "> - Group: \"a-j\""
   ]
  },
  {
   "cell_type": "markdown",
   "metadata": {},
   "source": [
    "# Table of Contents"
   ]
  },
  {
   "cell_type": "markdown",
   "metadata": {},
   "source": [
    "\n",
    "[Table of Contents](#Table-of-contents)\n",
    "\n",
    "[Preliminaries](#Preliminaries)\n",
    "\n",
    "1. [Illustrating the set](#1.-Illustrating-the-Set)\n",
    "\n",
    "2. [Calculating the error in the MCC](#2.-Calculating-the-Error-in-the-MCC)\n",
    "\n",
    "3. [Finding the Market Clearing Price](#3.-Finding-the-Market-Clearing-Price)\n",
    "\n",
    "4. [Allocations from prices](#4-Allocations-from-prices)\n",
    "* a. Finding allocation with price in P_1\n",
    "* b. Finding allocation with any price > 0\n",
    "\n",
    "5. [Allocations with restrictions](#5-Allocations-with-restrictions)\n",
    "* a. Finding allocation with choice restricted to C\n",
    "* b. Finding allocation with no further restrictions\n",
    "\n",
    "6. [Further allocations](#6-Further-Allocations)\n",
    "* a. Finding allocation with social planner\n",
    "* b. Illustrating allocations\n",
    "\n",
    "7. [Drawing Set W](#7.-Drawing-Set-W)\n",
    "\n",
    "8. [Finding the Market Equilibrium Allocation](#8.-Finding-the-Market-Equilibrium-Allocation)\n",
    "\n",
    "[Conclusion](#Conclusion)"
   ]
  },
  {
   "cell_type": "markdown",
   "metadata": {},
   "source": [
    "# Preliminaries"
   ]
  },
  {
   "cell_type": "code",
   "execution_count": 1,
   "metadata": {},
   "outputs": [],
   "source": [
    "import numpy as np\n",
    "import matplotlib.pyplot as plt\n",
    "import pandas as pd\n",
    "from scipy.optimize import minimize\n",
    "from scipy.optimize import minimize_scalar\n",
    "from inauguralproject import ExchangeEconomyClass\n",
    "\n",
    "plt.rcParams.update({\"axes.grid\":True,\"grid.color\":\"black\",\"grid.alpha\":\"0.25\",\"grid.linestyle\":\"--\"})\n",
    "plt.rcParams.update({'font.size': 14})\n",
    "\n",
    "model = ExchangeEconomyClass()\n",
    "par = model.par\n",
    "\n",
    "\n",
    "# autoreload modules when code is run. Otherwise, python will not see recent changes. \n",
    "%load_ext autoreload\n",
    "%autoreload 2\n"
   ]
  },
  {
   "cell_type": "markdown",
   "metadata": {},
   "source": [
    "# 1. Illustrating the Set"
   ]
  },
  {
   "cell_type": "code",
   "execution_count": 15,
   "metadata": {},
   "outputs": [
    {
     "data": {
      "image/png": "[encoded data removed]",
      "text/plain": [
       "<Figure size 600x600 with 3 Axes>"
      ]
     },
     "metadata": {},
     "output_type": "display_data"
    }
   ],
   "source": [
    "### Figure set up ###\n",
    "fig = plt.figure(frameon=False,figsize=(6,6), dpi=100)\n",
    "ax_A = fig.add_subplot(1, 1, 1)\n",
    "\n",
    "ax_A.set_xlabel(\"$x_1^A$\")\n",
    "ax_A.set_ylabel(\"$x_2^A$\")\n",
    "\n",
    "temp = ax_A.twinx()\n",
    "temp.set_ylabel(\"$x_2^B$\")\n",
    "ax_B = temp.twiny()\n",
    "ax_B.set_xlabel(\"$x_1^B$\")\n",
    "ax_B.invert_xaxis()\n",
    "ax_B.invert_yaxis()\n",
    "\n",
    "ax_A.scatter(model.par.w1A,model.par.w2A,marker='s',color='black',label='Endowment')\n",
    "\n",
    "# Limits\n",
    "ax_A.plot([0,model.par.w1bar],[0,0],lw=2,color='black')\n",
    "ax_A.plot([0,model.par.w1bar],[model.par.w2bar,model.par.w2bar],lw=2,color='black')\n",
    "ax_A.plot([0,0],[0,model.par.w2bar],lw=2,color='black')\n",
    "ax_A.plot([model.par.w1bar,model.par.w1bar],[0,model.par.w2bar],lw=2,color='black')\n",
    "\n",
    "ax_A.set_xlim([-0.1, model.par.w1bar + 0.1])\n",
    "ax_A.set_ylim([-0.1, model.par.w2bar + 0.1])    \n",
    "ax_B.set_xlim([model.par.w1bar + 0.1, -0.1])\n",
    "ax_B.set_ylim([model.par.w2bar + 0.1, -0.1])\n",
    "\n",
    "### Pareto improvements ###\n",
    "\n",
    "# N is the amount of steps from 0 to 1 for the goods\n",
    "N = 75\n",
    "\n",
    "# Define an empty list that will hold the pareto improvements\n",
    "pareto_improvements = []\n",
    "\n",
    "\n",
    "# Collecting Pareto improvements using a for loop\n",
    "for x1A in np.linspace(0, 1, N):\n",
    "    for x2A in np.linspace(0, 1, N):\n",
    "        x1B = 1 - x1A\n",
    "        x2B = 1 - x2A\n",
    "        # Append pareto improvements to the empty list\n",
    "        if model.utility_A(x1A, x2A) >= model.baseline_utility_A() and model.utility_B(x1B, x2B) >= model.baseline_utility_B():\n",
    "            pareto_improvements.append((x1A, x2A))\n",
    "\n",
    "### Plotting Pareto improvements ###\n",
    "for x1A, x2A in pareto_improvements:\n",
    "    ax_A.plot(x1A, x2A, 'bo', alpha=0.5)\n",
    "\n",
    "ax_A.legend(frameon=True,loc='upper right',bbox_to_anchor=(1.6,1.0))\n",
    "\n",
    "plt.show()"
   ]
  },
  {
   "cell_type": "markdown",
   "metadata": {},
   "source": [
    "# 2. Calculating the error in the MCC"
   ]
  },
  {
   "cell_type": "code",
   "execution_count": 16,
   "metadata": {},
   "outputs": [
    {
     "name": "stdout",
     "output_type": "stream",
     "text": [
      "First 3 and last errors with corresponding p1:\n",
      "p1 = 0.500: eps1 = 0.246, eps2 = -0.123\n",
      "p1 = 0.527: eps1 = 0.206, eps2 = -0.109\n",
      "p1 = 0.554: eps1 = 0.170, eps2 = -0.094\n",
      "...\n",
      "p1 = 2.500: eps1 = -0.377, eps2 = 0.941\n"
     ]
    }
   ],
   "source": [
    "### Finding epsilon for all given values with loop ###\n",
    "N = 75\n",
    "\n",
    "# Define an empty list that will store the errors\n",
    "error = []\n",
    "\n",
    "# Defining the p1 sets\n",
    "p1_values = np.linspace(0.5, 2.5, N)\n",
    "\n",
    "# Store the pairs of errors with the corresponding p1's\n",
    "for p1 in p1_values:\n",
    "    eps = model.check_market_clearing(p1)\n",
    "    error.append((p1, eps))  # Storing both p1 and eps together\n",
    "\n",
    "# Function to print the first three and last elements of the error list with corresponding p1\n",
    "def print_selected_errors(errors):\n",
    "    print(\"First 3 and last errors with corresponding p1:\")\n",
    "    # Print first three errors\n",
    "    for i in range(3):\n",
    "        p1, (eps1, eps2) = errors[i]\n",
    "        print(f\"p1 = {p1:.3f}: eps1 = {eps1:.3f}, eps2 = {eps2:.3f}\")\n",
    "\n",
    "    print(\"...\")\n",
    "\n",
    "    # Print last error\n",
    "    p1, (eps1, eps2) = errors[-1]\n",
    "    print(f\"p1 = {p1:.3f}: eps1 = {eps1:.3f}, eps2 = {eps2:.3f}\")\n",
    "\n",
    "# Call the function to print the selected errors\n",
    "print_selected_errors(error)"
   ]
  },
  {
   "cell_type": "markdown",
   "metadata": {},
   "source": [
    "# 3. Finding the Market Clearing Price"
   ]
  },
  {
   "cell_type": "code",
   "execution_count": 17,
   "metadata": {},
   "outputs": [
    {
     "name": "stdout",
     "output_type": "stream",
     "text": [
      "Market Clearing Price for p1: 0.731\n",
      "Check if sum of errors is minimized: 0.000\n"
     ]
    }
   ],
   "source": [
    "# Define initial guess for the price for the optimizer\n",
    "guess = 2\n",
    "\n",
    "# Define the bounds for the optimizer\n",
    "bounds = [(0.001, None)]\n",
    "\n",
    "# Find the market clearing price by minimizing the sum of errors using an optimizer\n",
    "optimal_p1_3 = minimize(model.error_sum, guess, bounds=bounds)\n",
    "\n",
    "print(f\"Market Clearing Price for p1: {optimal_p1_3.x[0]:.3f}\")\n",
    "print(f\"Check if sum of errors is minimized: {optimal_p1_3.fun:.3f}\")"
   ]
  },
  {
   "cell_type": "markdown",
   "metadata": {},
   "source": [
    "# 4. Allocations from prices"
   ]
  },
  {
   "cell_type": "markdown",
   "metadata": {},
   "source": [
    "* a. Finding allocation with price in $\\mathcal{P}_1$"
   ]
  },
  {
   "cell_type": "code",
   "execution_count": 18,
   "metadata": {},
   "outputs": [
    {
     "name": "stdout",
     "output_type": "stream",
     "text": [
      "Optimal p1: 0.770\n",
      "Optimal Consumption for A:\n",
      "x1A = 0.586, x2A = 0.841\n",
      "Resulting Consumption for B:\n",
      "x1B = 0.414, x2B = 0.159\n",
      "Consumer A utility: 0.745\n",
      "Consumer B utility: 0.301\n",
      "Check if sum is 1 for good 1: 1.000\n",
      "Check if sum is 1 for good 2: 1.000\n"
     ]
    }
   ],
   "source": [
    "N = 75\n",
    "p1 = np.linspace(0.5, 2.5, N)\n",
    "\n",
    "# Initialize variables to store the maximum utility and the corresponding p1\n",
    "max_utility = float('-inf')\n",
    "optimal_p1_4a = None\n",
    "\n",
    "# Iterate over each p1 to find the one that maximizes utility for consumer A\n",
    "for p1_i in p1:\n",
    "    utility = -model.utility_A_p1(p1_i)\n",
    "    if utility > max_utility:\n",
    "        max_utility = utility\n",
    "        optimal_p1_4a = p1_i\n",
    "\n",
    "# Once the optimal p1 is found, calculate the optimal consumptions\n",
    "result_4a_x1B, result_4a_x2B = model.demand_B(optimal_p1_4a)\n",
    "result_4a_x1A, result_4a_x2A = 1 - result_4a_x1B, 1 - result_4a_x2B\n",
    "\n",
    "# Print the results\n",
    "print(f\"Optimal p1: {optimal_p1_4a:.3f}\")\n",
    "print(f\"Optimal Consumption for A:\")\n",
    "print(f\"x1A = {result_4a_x1A:.3f}, x2A = {result_4a_x2A:.3f}\")\n",
    "print(f\"Resulting Consumption for B:\")\n",
    "print(f\"x1B = {result_4a_x1B:.3f}, x2B = {result_4a_x2B:.3f}\")\n",
    "print(f\"Consumer A utility: {max_utility:.3f}\")\n",
    "print(f\"Consumer B utility: {model.utility_B(result_4a_x1B,result_4a_x2B):.3f}\")\n",
    "print(f\"Check if sum is 1 for good 1: {result_4a_x1A + result_4a_x1B:.3f}\")\n",
    "print(f\"Check if sum is 1 for good 2: {result_4a_x2A + result_4a_x2B:.3f}\")\n"
   ]
  },
  {
   "cell_type": "markdown",
   "metadata": {},
   "source": [
    "* b. Finding allocation with any price $p_1> 0$"
   ]
  },
  {
   "cell_type": "code",
   "execution_count": 19,
   "metadata": {},
   "outputs": [
    {
     "name": "stdout",
     "output_type": "stream",
     "text": [
      "Optimal p1: 0.771\n",
      "Maximized Utility for A: 0.745\n",
      "Optimal Consumption for A:\n",
      "x1A = 0.586, x2A = 0.840\n",
      "Optimal Consumption for B:\n",
      "x1B = 0.414, x2B = 0.160\n",
      "Check if sum is 1 for good 1: 1.000\n",
      "Check if sum is 1 for good 2: 1.000\n"
     ]
    }
   ],
   "source": [
    "# Initial guess for p1\n",
    "initial_guess_p1 = [1.0]\n",
    "\n",
    "# Bounds for p1 - ensuring p1 is greater than 0\n",
    "bounds = [(0.001, None)]\n",
    "\n",
    "# Maximizing the utility (negative in method) of consumer A using an optimizer\n",
    "result = minimize(model.utility_A_p1, initial_guess_p1, bounds=bounds)\n",
    "\n",
    "# Extracting the optimal p1 from the result\n",
    "optimal_p1b = result.x[0]  # The optimal price p1\n",
    "optimal_value = -result.fun  # The maximum utility value of A, negate because we minimized the negative utility\n",
    "\n",
    "# Consumer B's demand at optimal price\n",
    "result_4b_x1B, result_4b_x2B = model.demand_B(optimal_p1b)\n",
    "\n",
    "# Consumer A's consumption after B's consumption at optimal price\n",
    "result_4b_x1A, result_4b_x2A = 1 - result_4b_x1B, 1 - result_4b_x2B\n",
    "\n",
    "# Print results\n",
    "print(f\"Optimal p1: {optimal_p1b:.3f}\")\n",
    "print(f\"Maximized Utility for A: {optimal_value:.3f}\")\n",
    "print(f\"Optimal Consumption for A:\")\n",
    "print(f\"x1A = {result_4b_x1A:.3f}, x2A = {result_4b_x2A:.3f}\")\n",
    "print(f\"Optimal Consumption for B:\")\n",
    "print(f\"x1B = {result_4b_x1B:.3f}, x2B = {result_4b_x2B:.3f}\")\n",
    "print(f\"Check if sum is 1 for good 1: {result_4b_x1A + result_4b_x1B:.3f}\")\n",
    "print(f\"Check if sum is 1 for good 2: {result_4b_x2A + result_4b_x2B:.3f}\")\n"
   ]
  },
  {
   "cell_type": "markdown",
   "metadata": {},
   "source": [
    "# 5. Allocations with restrictions"
   ]
  },
  {
   "cell_type": "markdown",
   "metadata": {},
   "source": [
    "* a. Finding allocation with choice restricted to $\\mathcal{C}$"
   ]
  },
  {
   "cell_type": "code",
   "execution_count": 20,
   "metadata": {},
   "outputs": [
    {
     "name": "stdout",
     "output_type": "stream",
     "text": [
      "Optimal Allocation for A:\n",
      "x1A = 0.579, x2A = 0.846\n",
      "Optimal Allocation for B:\n",
      "x1B = 0.421, x2B = 0.154\n",
      "Check if sum is 1 for good 1: 1.000\n",
      "Check if sum is 1 for good 2: 1.000\n"
     ]
    }
   ],
   "source": [
    "# Constraints ensuring both A and B are at least as well off as with their initial endowments\n",
    "constraints = (\n",
    "    {'type': 'ineq', 'fun': lambda x: model.utility_A(x[0], x[1]) - model.baseline_utility_A()},\n",
    "    {'type': 'ineq', 'fun': lambda x: model.utility_B(1 - x[0], 1 - x[1]) - model.baseline_utility_B()}\n",
    ")\n",
    "\n",
    "# Bounds for x1A and x2A\n",
    "bounds = [(0, 1), (0, 1)]\n",
    "\n",
    "# Initial guess\n",
    "initial_guess = [model.par.w1A, model.par.w2A]\n",
    "\n",
    "# Solve the optimization problem\n",
    "result = minimize(model.objective_function, initial_guess, bounds=bounds, constraints=constraints)\n",
    "\n",
    "# Extracting the optimal allocation for A\n",
    "result_5a_x1A, result_5a_x2A = result.x\n",
    "\n",
    "# Calculating B's consumption based on A's optimal allocation\n",
    "result_5a_x1B, result_5a_x2B = 1 - result_5a_x1A, 1 - result_5a_x2A\n",
    "\n",
    "# Output results\n",
    "print(f\"Optimal Allocation for A:\")\n",
    "print(f\"x1A = {result_5a_x1A:.3f}, x2A = {result_5a_x2A:.3f}\")\n",
    "print(f\"Optimal Allocation for B:\")\n",
    "print(f\"x1B = {result_5a_x1B:.3f}, x2B = {result_5a_x2B:.3f}\")\n",
    "print(f\"Check if sum is 1 for good 1: {result_5a_x1A + result_5a_x1B:.3f}\")\n",
    "print(f\"Check if sum is 1 for good 2: {result_5a_x2A + result_5a_x2B:.3f}\")\n"
   ]
  },
  {
   "cell_type": "markdown",
   "metadata": {},
   "source": [
    "* b. Finding allocation with no further restrictions"
   ]
  },
  {
   "cell_type": "code",
   "execution_count": 21,
   "metadata": {},
   "outputs": [
    {
     "name": "stdout",
     "output_type": "stream",
     "text": [
      "Optimal Allocation for A:\n",
      "x1A = 0.461, x2A = 0.774\n",
      "Optimal Allocation for B:\n",
      "x1B = 0.539, x2B = 0.226\n",
      "Check if sum is 1 for good 1: 1.000\n",
      "Check if sum is 1 for good 2: 1.000\n"
     ]
    }
   ],
   "source": [
    "# Constraint function\n",
    "def constraint_function(x):\n",
    "    x1A, x2A = x\n",
    "\n",
    "    return model.utility_B(1 - x1A, 1 - x2A) - model.utility_B(model.par.w1B, model.par.w1B)\n",
    "\n",
    "# Define constraints using a dictionary\n",
    "constraints = ({'type': 'eq', 'fun': constraint_function})\n",
    "\n",
    "# Bounds for x1A and x2A\n",
    "bounds = [(0, 1), (0, 1)]\n",
    "\n",
    "# Initial guess\n",
    "initial_guess = [model.par.w1A, model.par.w2A]\n",
    "\n",
    "# Solve the optimization problem\n",
    "result = minimize(model.objective_function, initial_guess, bounds=bounds, constraints=constraints)\n",
    "\n",
    "# Extracting the optimal allocation for A\n",
    "result_5b_x1A, result_5b_x2A = result.x\n",
    "\n",
    "# Calculating B's consumption based on A's optimal allocation\n",
    "result_5b_x1B, result_5b_x2B = 1 - result_5b_x1A, 1 - result_5b_x2A\n",
    "\n",
    "# Output results\n",
    "print(f\"Optimal Allocation for A:\")\n",
    "print(f\"x1A = {result_5b_x1A:.3f}, x2A = {result_5b_x2A:.3f}\")\n",
    "print(f\"Optimal Allocation for B:\")\n",
    "print(f\"x1B = {result_5b_x1B:.3f}, x2B = {result_5b_x2B:.3f}\")\n",
    "print(f\"Check if sum is 1 for good 1: {result_5b_x1A + result_5b_x1B:.3f}\")\n",
    "print(f\"Check if sum is 1 for good 2: {result_5b_x2A + result_5b_x2B:.3f}\")"
   ]
  },
  {
   "cell_type": "markdown",
   "metadata": {},
   "source": [
    "# 6. Further Allocations"
   ]
  },
  {
   "cell_type": "markdown",
   "metadata": {},
   "source": [
    "* a. Finding allocation with social planner"
   ]
  },
  {
   "cell_type": "code",
   "execution_count": 22,
   "metadata": {},
   "outputs": [
    {
     "name": "stdout",
     "output_type": "stream",
     "text": [
      "Optimal Allocation for A:\n",
      "x1A = 0.333, x2A = 0.667\n",
      "Optimal Allocation for B:\n",
      "x1B = 0.667, x2B = 0.333\n",
      "Check if sum is 1 for good 1: 1.000\n",
      "Check if sum is 1 for good 2: 1.000\n"
     ]
    }
   ],
   "source": [
    "# No constraints\n",
    "constraints = ()\n",
    "\n",
    "# Limiting x1a and x2a\n",
    "bounds = [(0, 1), (0, 1)]\n",
    "\n",
    "# Initial guess\n",
    "initial_guess = [0.7, 0.3]\n",
    "\n",
    "# Optimizing\n",
    "result = minimize(model.aggregate_utility_objective, initial_guess, bounds=bounds, constraints=constraints)\n",
    "\n",
    "# Reading the optimal allocation for A\n",
    "result_6a_x1A, result_6a_x2A = result.x\n",
    "\n",
    "# Calculating B's consumption based on A's optimal allocation\n",
    "result_6a_x1B, result_6a_x2B = 1 - result_6a_x1A, 1 - result_6a_x2A\n",
    "\n",
    "# Output results\n",
    "print(f\"Optimal Allocation for A:\")\n",
    "print(f\"x1A = {result_6a_x1A:.3f}, x2A = {result_6a_x2A:.3f}\")\n",
    "print(f\"Optimal Allocation for B:\")\n",
    "print(f\"x1B = {result_6a_x1B:.3f}, x2B = {result_6a_x2B:.3f}\")\n",
    "print(f\"Check if sum is 1 for good 1: {result_6a_x1A + result_6a_x1B:.3f}\")\n",
    "print(f\"Check if sum is 1 for good 2: {result_6a_x2A + result_6a_x2B:.3f}\")"
   ]
  },
  {
   "cell_type": "markdown",
   "metadata": {},
   "source": [
    "* b. Illustrating allocations"
   ]
  },
  {
   "cell_type": "code",
   "execution_count": 23,
   "metadata": {},
   "outputs": [
    {
     "data": {
      "image/png": "[encoded data removed]",
      "text/plain": [
       "<Figure size 600x600 with 3 Axes>"
      ]
     },
     "metadata": {},
     "output_type": "display_data"
    }
   ],
   "source": [
    "### Figure set up ###\n",
    "fig = plt.figure(frameon=False,figsize=(6,6), dpi=100)\n",
    "ax_A = fig.add_subplot(1, 1, 1)\n",
    "\n",
    "ax_A.set_xlabel(\"$x_1^A$\")\n",
    "ax_A.set_ylabel(\"$x_2^A$\")\n",
    "\n",
    "temp = ax_A.twinx()\n",
    "temp.set_ylabel(\"$x_2^B$\")\n",
    "ax_B = temp.twiny()\n",
    "ax_B.set_xlabel(\"$x_1^B$\")\n",
    "ax_B.invert_xaxis()\n",
    "ax_B.invert_yaxis()\n",
    "\n",
    "ax_A.scatter(0.8,0.3,marker='s',color='black',label='Endowment')\n",
    "\n",
    "# Limits\n",
    "ax_A.plot([0,model.par.w1bar],[0,0],lw=2,color='black')\n",
    "ax_A.plot([0,model.par.w1bar],[model.par.w2bar,model.par.w2bar],lw=2,color='black')\n",
    "ax_A.plot([0,0],[0,model.par.w2bar],lw=2,color='black')\n",
    "ax_A.plot([model.par.w1bar,model.par.w1bar],[0,model.par.w2bar],lw=2,color='black')\n",
    "\n",
    "ax_A.set_xlim([-0.1, model.par.w1bar + 0.1])\n",
    "ax_A.set_ylim([-0.1, model.par.w2bar + 0.1])    \n",
    "ax_B.set_xlim([model.par.w1bar + 0.1, -0.1])\n",
    "ax_B.set_ylim([model.par.w2bar + 0.1, -0.1])\n",
    "\n",
    "### Illustrating the 6 different allocations in an Edgeworth-box ###\n",
    "ax_A.scatter(result_4a_x1A,result_4a_x2A,marker='s',color='green',label='Prices in $\\mathcal{P}_1$')\n",
    "\n",
    "ax_A.scatter(result_4b_x1A,result_4b_x2A,marker='*',color='red',label='Positive prices')\n",
    "\n",
    "ax_A.scatter(result_5a_x1A,result_5a_x2A,marker='*',color='blue',label='Restricted to $\\mathcal{C}$')\n",
    "\n",
    "ax_A.scatter(result_5b_x1A,result_5b_x2A,marker='s',color='purple',label='Further restrictions')\n",
    "\n",
    "ax_A.scatter(result_6a_x1A,result_6a_x2A,marker='s',color='black',label='Social planner')\n",
    "\n",
    "ax_A.legend(frameon=True,loc='best',bbox_to_anchor=(1.8,1.0))\n",
    "\n",
    "plt.style.use('fivethirtyeight')\n",
    "plt.show()"
   ]
  },
  {
   "cell_type": "markdown",
   "metadata": {},
   "source": [
    "# 7. Drawing Set $\\mathcal{W}$"
   ]
  },
  {
   "cell_type": "code",
   "execution_count": 24,
   "metadata": {},
   "outputs": [
    {
     "name": "stdout",
     "output_type": "stream",
     "text": [
      "(0.088, 0.892)\n",
      "(0.746, 0.945)\n",
      "(0.893, 0.728)\n",
      "...\n",
      "(0.315, 0.233)\n"
     ]
    }
   ],
   "source": [
    "# Number of elements to draw\n",
    "N_elements = 50\n",
    "\n",
    "# Drawing 50 elements from a uniform distribution for w1A and w2A\n",
    "w1A_samples = np.random.uniform(0, 1, N_elements)\n",
    "w2A_samples = np.random.uniform(0, 1, N_elements)\n",
    "\n",
    "# Combining the samples into a set W with 50 elements\n",
    "w = list(zip(w1A_samples, w2A_samples))\n",
    "\n",
    "# Function to print the first three and last element of the set W\n",
    "def print_sample_set(w):\n",
    "    # Print the first three elements\n",
    "    for element in w[:3]:\n",
    "        print(f\"({element[0]:.3f}, {element[1]:.3f})\")\n",
    "    print(\"...\")\n",
    "\n",
    "    # Print the last element\n",
    "    last_element = w[-1]\n",
    "    print(f\"({last_element[0]:.3f}, {last_element[1]:.3f})\")\n",
    "\n",
    "# Call the function to print the elements\n",
    "print_sample_set(w)"
   ]
  },
  {
   "cell_type": "markdown",
   "metadata": {},
   "source": [
    "# 8. Finding the Market Equilibrium Allocation"
   ]
  },
  {
   "cell_type": "code",
   "execution_count": 25,
   "metadata": {},
   "outputs": [
    {
     "data": {
      "image/png": "[encoded data removed]",
      "text/plain": [
       "<Figure size 600x600 with 3 Axes>"
      ]
     },
     "metadata": {},
     "output_type": "display_data"
    }
   ],
   "source": [
    "# Initialize a list to store the market-clearing prices and allocations\n",
    "market_clearing_prices = []\n",
    "allocations_A = []\n",
    "allocations_B = []\n",
    "\n",
    "# Loop over each endowment pair in W\n",
    "for w1A, w2A in w:\n",
    "    # Call the method to find the market-clearing price\n",
    "    p1 = model.find_market_clearing_price(w1A, w2A)\n",
    "    \n",
    "    # Calculate demands at the market-clearing price\n",
    "    x1A, x2A = model.demand_A(p1)\n",
    "    x1B, x2B = model.demand_B(p1)\n",
    "    \n",
    "    # Store the price and allocations\n",
    "    market_clearing_prices.append(p1)\n",
    "    allocations_A.append((x1A, x2A))\n",
    "    allocations_B.append((x1B, x2B))\n",
    "\n",
    "\n",
    "# The 'market_clearing_prices' list now contains the market-clearing prices for each endowment pair in W\n",
    "# 'allocations_A' and 'allocations_B' contain the corresponding allocations for consumers A and B\n",
    "\n",
    "### Plotting the allocations ###\n",
    "\n",
    "par = model.par\n",
    "\n",
    "# Total endowment\n",
    "w1bar = par.w1bar\n",
    "w2bar = par.w2bar\n",
    "\n",
    "# Figure set up\n",
    "fig = plt.figure(frameon=False, figsize=(6,6), dpi=100)\n",
    "ax_A = fig.add_subplot(1, 1, 1)\n",
    "\n",
    "ax_A.set_xlabel(\"$x_1^A$\")\n",
    "ax_A.set_ylabel(\"$x_2^A$\")\n",
    "\n",
    "temp = ax_A.twinx()\n",
    "temp.set_ylabel(\"$x_2^B$\")\n",
    "ax_B = temp.twiny()\n",
    "ax_B.set_xlabel(\"$x_1^B$\")\n",
    "ax_B.invert_xaxis()\n",
    "ax_B.invert_yaxis()\n",
    "\n",
    "# A's and B's endowment\n",
    "ax_A.scatter(0.8, 0.3, marker='s', color='black', label='Endowment')\n",
    "\n",
    "# Limits\n",
    "ax_A.plot([0,w1bar],[0,0],lw=2,color='black')\n",
    "ax_A.plot([0,w1bar],[w2bar,w2bar],lw=2,color='black')\n",
    "ax_A.plot([0,0],[0,w2bar],lw=2,color='black')\n",
    "ax_A.plot([w1bar,w1bar],[0,w2bar],lw=2,color='black')\n",
    "\n",
    "ax_A.set_xlim([-0.1, w1bar + 0.1])\n",
    "ax_A.set_ylim([-0.1, w2bar + 0.1])    \n",
    "ax_B.set_xlim([w1bar + 0.1, -0.1])\n",
    "ax_B.set_ylim([w2bar + 0.1, -0.1])\n",
    "\n",
    "# Plotting the allocations\n",
    "\n",
    "ax_A.scatter(*zip(*allocations_A), marker='o', color='blue', label='Allocations for $\\omega^A \\in \\mathcal{W}$')\n",
    "\n",
    "# Legend\n",
    "ax_A.legend(frameon=True, loc='upper right', bbox_to_anchor=(1.75, 1.0))\n",
    "\n",
    "# Display the plot\n",
    "plt.style.use('fivethirtyeight')\n",
    "plt.show()\n",
    "\n"
   ]
  },
  {
   "cell_type": "markdown",
   "metadata": {},
   "source": [
    "# Conclusion"
   ]
  },
  {
   "cell_type": "markdown",
   "metadata": {},
   "source": [
    "This notebook explores the determination of market equilibrium and allocation efficiencies within the given economic model, using computational techniques for analysis and visualization."
   ]
  }
 ],
 "metadata": {
  "kernelspec": {
   "display_name": "base",
   "language": "python",
   "name": "python3"
  },
  "language_info": {
   "codemirror_mode": {
    "name": "ipython",
    "version": 3
   },
   "file_extension": ".py",
   "mimetype": "text/x-python",
   "name": "python",
   "nbconvert_exporter": "python",
   "pygments_lexer": "ipython3",
   "version": "3.9.18"
  },
  "toc-autonumbering": true,
  "vscode": {
   "interpreter": {
    "hash": "47ef90cdf3004d3f859f1fb202523c65c07ba7c22eefd261b181f4744e2d0403"
   }
  }
 },
 "nbformat": 4,
 "nbformat_minor": 4
}
